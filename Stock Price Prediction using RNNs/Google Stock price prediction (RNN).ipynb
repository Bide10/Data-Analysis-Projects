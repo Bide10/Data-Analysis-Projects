{
 "cells": [
  {
   "cell_type": "markdown",
   "id": "988ead51-581a-4049-b5a5-89843c4a51c9",
   "metadata": {},
   "source": [
    "# Predicting Google's stock price for Jan 2017 using RNN models"
   ]
  },
  {
   "cell_type": "markdown",
   "id": "b2c36750-1b41-4ab8-a6c1-3febf1892533",
   "metadata": {},
   "source": [
    "## Part 1: Data Preprocessing"
   ]
  },
  {
   "cell_type": "markdown",
   "id": "c5896590-3c28-4562-95ff-425e95afdd9c",
   "metadata": {},
   "source": [
    "### Importing the libraries"
   ]
  },
  {
   "cell_type": "code",
   "execution_count": 1,
   "id": "f455b9e7-293f-4919-8942-e3fe1aec300e",
   "metadata": {},
   "outputs": [],
   "source": [
    "import numpy as np\n",
    "import matplotlib.pyplot as plt\n",
    "import pandas as pd\n",
    "import tensorflow as tf"
   ]
  },
  {
   "cell_type": "markdown",
   "id": "16ebda9c-9373-4928-b4c0-0fd08561415b",
   "metadata": {},
   "source": [
    "### Importing the training set"
   ]
  },
  {
   "cell_type": "code",
   "execution_count": 2,
   "id": "2f9c10fd-874e-4bc5-a215-72b6ebcd8410",
   "metadata": {},
   "outputs": [],
   "source": [
    "data_train = pd.read_csv('C:/Users/Bidee/OneDrive/Desktop/Deep Learning A-Z/Part 3 - Recurrent Neural Networks (RNN)/Google_Stock_Price_Train.csv')\n",
    "# we only need the opening stock prices so using iloc to slice through the dataset and get the opening values.\n",
    "# note: Neural Networks only take in arrays and not dataframes. so, reading the dataframe using pandas and after slicing it , this '.values' will convert it to \n",
    "# numpy array which is what we need.\n",
    "train_set = data_train.iloc[:,1:2].values"
   ]
  },
  {
   "cell_type": "markdown",
   "id": "21965aff-6f79-4d3b-9910-0282fee7d606",
   "metadata": {},
   "source": [
    "### Featue scaling"
   ]
  },
  {
   "cell_type": "code",
   "execution_count": 3,
   "id": "8da43a17-b041-4e37-a607-2974ac1e9254",
   "metadata": {},
   "outputs": [],
   "source": [
    "from sklearn.preprocessing import MinMaxScaler\n",
    "scaler = MinMaxScaler(feature_range=(0,1))\n",
    "\n",
    "train_set_scaled = scaler.fit_transform(train_set)"
   ]
  },
  {
   "cell_type": "markdown",
   "id": "777e79a9-bef2-4116-a04b-1e2bf2676a70",
   "metadata": {},
   "source": [
    "### Creating a data structure with 60 timesteps and 1 output"
   ]
  },
  {
   "cell_type": "code",
   "execution_count": 4,
   "id": "351e7779-f27a-4e57-99b1-85a440bca4ec",
   "metadata": {},
   "outputs": [],
   "source": [
    "x_train = []\n",
    "y_train = []\n",
    "\n",
    "for i in range(60, 1258):\n",
    "    x_train.append(train_set_scaled[i-60:i,0]) #since only 1  column is there so 0\n",
    "    y_train.append(train_set_scaled[i, 0])\n",
    "\n",
    "x_train, y_train = np.array(x_train), np.array(y_train)\n",
    "\n",
    "\n",
    "# so what the output looks like is a array of 1190, 60 shape. this means that every row now has 60 time steps of data (i.e., spanning across 60 business days)\n",
    "# starting form column 0 to 59, the next row first value is the 61st day and so on, so every day we look at has past 60 days before it. "
   ]
  },
  {
   "cell_type": "markdown",
   "id": "ed6275dd-9390-4c1c-b217-5b529144dd78",
   "metadata": {},
   "source": [
    "### Reshaping"
   ]
  },
  {
   "cell_type": "code",
   "execution_count": 5,
   "id": "b1ca2bfc-4ae2-4b34-88f4-fe4cdf7bb0c6",
   "metadata": {},
   "outputs": [],
   "source": [
    "# we're reshaping it to 3D from 2D because we are adding the corresponting indicator as well. \n",
    "# if you have 1 indicator use 1 or other values for multiple indicators.\n",
    "\n",
    "x_train = np.reshape(x_train, (x_train.shape[0], x_train.shape[1], 1))"
   ]
  },
  {
   "cell_type": "markdown",
   "id": "d858caea-4506-48bc-b07f-038e86bb5267",
   "metadata": {},
   "source": [
    "## Part 2: Building and training the RNN"
   ]
  },
  {
   "cell_type": "markdown",
   "id": "16c5a97d-12bf-4bea-a5cd-3b9882a59cd3",
   "metadata": {},
   "source": [
    "### Importing keras libraries and packages"
   ]
  },
  {
   "cell_type": "code",
   "execution_count": 6,
   "id": "c50b0138-df4d-4fdb-b1fa-fb255c155bcc",
   "metadata": {},
   "outputs": [],
   "source": [
    "\n",
    "from keras.models import Sequential\n",
    "from keras.layers import LSTM, Dense , Dropout"
   ]
  },
  {
   "cell_type": "markdown",
   "id": "a00dcde6-b074-4391-b295-43dccaf24d59",
   "metadata": {},
   "source": [
    "### Initializing the RNN"
   ]
  },
  {
   "cell_type": "code",
   "execution_count": 7,
   "id": "6d72a647-35d3-4b0a-8d77-5e720ccbb942",
   "metadata": {},
   "outputs": [],
   "source": [
    "regressor = Sequential()"
   ]
  },
  {
   "cell_type": "markdown",
   "id": "f148d18a-b292-4222-8a84-366d3b096937",
   "metadata": {},
   "source": [
    "### Adding the first LSTM layer and Dropout regularization"
   ]
  },
  {
   "cell_type": "code",
   "execution_count": 8,
   "id": "ee732cd1-5518-4313-9297-4cca6d73ca5d",
   "metadata": {},
   "outputs": [
    {
     "name": "stdout",
     "output_type": "stream",
     "text": [
      "WARNING:tensorflow:Layer lstm will not use cuDNN kernels since it doesn't meet the criteria. It will use a generic GPU kernel as fallback when running on GPU.\n"
     ]
    }
   ],
   "source": [
    "# Here in the input shape, we are adding only 2nd and 3rd dimensions as the first dimension is already taken care of.\n",
    "# drop out rate of 0.20 meaning 20% of the neurons will be dropped out, so 20% of 50 is 10 , 10 neurons will be dropped out.\n",
    "regressor.add(tf.keras.layers.LSTM(units = 50, return_sequences = True, input_shape = (x_train.shape[1], 1), recurrent_dropout = 0.2))\n",
    "regressor.add(Dropout(0.2))"
   ]
  },
  {
   "cell_type": "markdown",
   "id": "636511fb-5d39-4c40-ac31-88273b08b36c",
   "metadata": {},
   "source": [
    "### Adding the 2nd LSTM layer and Dropout regularization "
   ]
  },
  {
   "cell_type": "code",
   "execution_count": 9,
   "id": "95e64618-8db3-49a6-bf55-fa6901a4a1dc",
   "metadata": {},
   "outputs": [
    {
     "name": "stdout",
     "output_type": "stream",
     "text": [
      "WARNING:tensorflow:Layer lstm_1 will not use cuDNN kernels since it doesn't meet the criteria. It will use a generic GPU kernel as fallback when running on GPU.\n"
     ]
    }
   ],
   "source": [
    "regressor.add(tf.keras.layers.LSTM(units = 50, return_sequences = True, recurrent_dropout = 0.2))\n",
    "regressor.add(Dropout(0.2))"
   ]
  },
  {
   "cell_type": "markdown",
   "id": "fdf92dbc-c7f3-4e44-9d4e-a1ceba690de1",
   "metadata": {},
   "source": [
    "### Adding the 3rd LSTM layer and Drouput regularization"
   ]
  },
  {
   "cell_type": "code",
   "execution_count": 10,
   "id": "2e7e6eb5-4a47-49f8-b09f-5eba6bcd8ed7",
   "metadata": {},
   "outputs": [
    {
     "name": "stdout",
     "output_type": "stream",
     "text": [
      "WARNING:tensorflow:Layer lstm_2 will not use cuDNN kernels since it doesn't meet the criteria. It will use a generic GPU kernel as fallback when running on GPU.\n"
     ]
    }
   ],
   "source": [
    "regressor.add(tf.keras.layers.LSTM(units = 50, return_sequences = True, recurrent_dropout = 0.2))\n",
    "regressor.add(Dropout(0.2))"
   ]
  },
  {
   "cell_type": "markdown",
   "id": "74a62e87-a8b9-4ef1-8689-2e50876e0b91",
   "metadata": {},
   "source": [
    "### Adding the 4th LSTM layer and Drouput regularization "
   ]
  },
  {
   "cell_type": "code",
   "execution_count": 11,
   "id": "368704d3-125b-4d5f-8d38-4c953bfc13c7",
   "metadata": {},
   "outputs": [
    {
     "name": "stdout",
     "output_type": "stream",
     "text": [
      "WARNING:tensorflow:Layer lstm_3 will not use cuDNN kernels since it doesn't meet the criteria. It will use a generic GPU kernel as fallback when running on GPU.\n"
     ]
    }
   ],
   "source": [
    "regressor.add(tf.keras.layers.LSTM(units = 50, recurrent_dropout = 0.2))\n",
    "regressor.add(Dropout(0.2))"
   ]
  },
  {
   "cell_type": "markdown",
   "id": "5ce31fae-cf10-4204-9da1-8d57fcdabf06",
   "metadata": {},
   "source": [
    "### Adding the output layer"
   ]
  },
  {
   "cell_type": "code",
   "execution_count": 12,
   "id": "1328a75a-c86e-480b-8a95-6cb8a0261db5",
   "metadata": {},
   "outputs": [],
   "source": [
    "regressor.add(tf.keras.layers.Dense(units = 1)) "
   ]
  },
  {
   "cell_type": "markdown",
   "id": "f651c86a-f412-4a5f-8e30-3e4f3ef9f3d3",
   "metadata": {},
   "source": [
    "### compiling the RNN"
   ]
  },
  {
   "cell_type": "code",
   "execution_count": 13,
   "id": "747aa94e-7b55-42d1-8f20-f60e54dbfb0c",
   "metadata": {},
   "outputs": [],
   "source": [
    "regressor.compile(optimizer = 'adam', loss = 'mean_squared_error' )"
   ]
  },
  {
   "cell_type": "markdown",
   "id": "d3c13ebe-eecc-4380-801f-11e0f57e437f",
   "metadata": {},
   "source": [
    "### Fitting the RNN to the training set"
   ]
  },
  {
   "cell_type": "code",
   "execution_count": 14,
   "id": "22a5a775-2fe0-4f39-9271-3e1e4e57b6f9",
   "metadata": {},
   "outputs": [
    {
     "name": "stdout",
     "output_type": "stream",
     "text": [
      "Epoch 1/100\n",
      "38/38 [==============================] - 63s 1s/step - loss: 0.0421\n",
      "Epoch 2/100\n",
      "38/38 [==============================] - 57s 2s/step - loss: 0.0070\n",
      "Epoch 3/100\n",
      "38/38 [==============================] - 58s 2s/step - loss: 0.0063\n",
      "Epoch 4/100\n",
      "38/38 [==============================] - 58s 2s/step - loss: 0.0060\n",
      "Epoch 5/100\n",
      "38/38 [==============================] - 59s 2s/step - loss: 0.0057\n",
      "Epoch 6/100\n",
      "38/38 [==============================] - 59s 2s/step - loss: 0.0061\n",
      "Epoch 7/100\n",
      "38/38 [==============================] - 60s 2s/step - loss: 0.0050\n",
      "Epoch 8/100\n",
      "38/38 [==============================] - 61s 2s/step - loss: 0.0045\n",
      "Epoch 9/100\n",
      "38/38 [==============================] - 62s 2s/step - loss: 0.0047\n",
      "Epoch 10/100\n",
      "38/38 [==============================] - 62s 2s/step - loss: 0.0047\n",
      "Epoch 11/100\n",
      "38/38 [==============================] - 62s 2s/step - loss: 0.0043\n",
      "Epoch 12/100\n",
      "38/38 [==============================] - 62s 2s/step - loss: 0.0043\n",
      "Epoch 13/100\n",
      "38/38 [==============================] - 62s 2s/step - loss: 0.0046\n",
      "Epoch 14/100\n",
      "38/38 [==============================] - 63s 2s/step - loss: 0.0041\n",
      "Epoch 15/100\n",
      "38/38 [==============================] - 63s 2s/step - loss: 0.0037\n",
      "Epoch 16/100\n",
      "38/38 [==============================] - 63s 2s/step - loss: 0.0035\n",
      "Epoch 17/100\n",
      "38/38 [==============================] - 63s 2s/step - loss: 0.0037\n",
      "Epoch 18/100\n",
      "38/38 [==============================] - 63s 2s/step - loss: 0.0036\n",
      "Epoch 19/100\n",
      "38/38 [==============================] - 64s 2s/step - loss: 0.0037\n",
      "Epoch 20/100\n",
      "38/38 [==============================] - 64s 2s/step - loss: 0.0040\n",
      "Epoch 21/100\n",
      "38/38 [==============================] - 63s 2s/step - loss: 0.0047\n",
      "Epoch 22/100\n",
      "38/38 [==============================] - 63s 2s/step - loss: 0.0032\n",
      "Epoch 23/100\n",
      "38/38 [==============================] - 63s 2s/step - loss: 0.0034\n",
      "Epoch 24/100\n",
      "38/38 [==============================] - 64s 2s/step - loss: 0.0032\n",
      "Epoch 25/100\n",
      "38/38 [==============================] - 63s 2s/step - loss: 0.0031\n",
      "Epoch 26/100\n",
      "38/38 [==============================] - 63s 2s/step - loss: 0.0032\n",
      "Epoch 27/100\n",
      "38/38 [==============================] - 63s 2s/step - loss: 0.0034\n",
      "Epoch 28/100\n",
      "38/38 [==============================] - 64s 2s/step - loss: 0.0034\n",
      "Epoch 29/100\n",
      "38/38 [==============================] - 63s 2s/step - loss: 0.0031\n",
      "Epoch 30/100\n",
      "38/38 [==============================] - 64s 2s/step - loss: 0.0029\n",
      "Epoch 31/100\n",
      "38/38 [==============================] - 63s 2s/step - loss: 0.0033\n",
      "Epoch 32/100\n",
      "38/38 [==============================] - 62s 2s/step - loss: 0.0030\n",
      "Epoch 33/100\n",
      "38/38 [==============================] - 62s 2s/step - loss: 0.0030\n",
      "Epoch 34/100\n",
      "38/38 [==============================] - 62s 2s/step - loss: 0.0036\n",
      "Epoch 35/100\n",
      "38/38 [==============================] - 62s 2s/step - loss: 0.0029\n",
      "Epoch 36/100\n",
      "38/38 [==============================] - 62s 2s/step - loss: 0.0029\n",
      "Epoch 37/100\n",
      "38/38 [==============================] - 62s 2s/step - loss: 0.0028\n",
      "Epoch 38/100\n",
      "38/38 [==============================] - 62s 2s/step - loss: 0.0029\n",
      "Epoch 39/100\n",
      "38/38 [==============================] - 62s 2s/step - loss: 0.0027\n",
      "Epoch 40/100\n",
      "38/38 [==============================] - 62s 2s/step - loss: 0.0026\n",
      "Epoch 41/100\n",
      "38/38 [==============================] - 62s 2s/step - loss: 0.0027\n",
      "Epoch 42/100\n",
      "38/38 [==============================] - 62s 2s/step - loss: 0.0029\n",
      "Epoch 43/100\n",
      "38/38 [==============================] - 62s 2s/step - loss: 0.0027\n",
      "Epoch 44/100\n",
      "38/38 [==============================] - 62s 2s/step - loss: 0.0026\n",
      "Epoch 45/100\n",
      "38/38 [==============================] - 62s 2s/step - loss: 0.0026\n",
      "Epoch 46/100\n",
      "38/38 [==============================] - 62s 2s/step - loss: 0.0023\n",
      "Epoch 47/100\n",
      "38/38 [==============================] - 62s 2s/step - loss: 0.0025\n",
      "Epoch 48/100\n",
      "38/38 [==============================] - 62s 2s/step - loss: 0.0024\n",
      "Epoch 49/100\n",
      "38/38 [==============================] - 62s 2s/step - loss: 0.0023\n",
      "Epoch 50/100\n",
      "38/38 [==============================] - 62s 2s/step - loss: 0.0025\n",
      "Epoch 51/100\n",
      "38/38 [==============================] - 62s 2s/step - loss: 0.0024\n",
      "Epoch 52/100\n",
      "38/38 [==============================] - 62s 2s/step - loss: 0.0024\n",
      "Epoch 53/100\n",
      "38/38 [==============================] - 62s 2s/step - loss: 0.0024\n",
      "Epoch 54/100\n",
      "38/38 [==============================] - 62s 2s/step - loss: 0.0022\n",
      "Epoch 55/100\n",
      "38/38 [==============================] - 62s 2s/step - loss: 0.0023\n",
      "Epoch 56/100\n",
      "38/38 [==============================] - 62s 2s/step - loss: 0.0021\n",
      "Epoch 57/100\n",
      "38/38 [==============================] - 62s 2s/step - loss: 0.0023\n",
      "Epoch 58/100\n",
      "38/38 [==============================] - 62s 2s/step - loss: 0.0025\n",
      "Epoch 59/100\n",
      "38/38 [==============================] - 62s 2s/step - loss: 0.0024\n",
      "Epoch 60/100\n",
      "38/38 [==============================] - 62s 2s/step - loss: 0.0025\n",
      "Epoch 61/100\n",
      "38/38 [==============================] - 63s 2s/step - loss: 0.0026\n",
      "Epoch 62/100\n",
      "38/38 [==============================] - 62s 2s/step - loss: 0.0026\n",
      "Epoch 63/100\n",
      "38/38 [==============================] - 62s 2s/step - loss: 0.0023\n",
      "Epoch 64/100\n",
      "38/38 [==============================] - 62s 2s/step - loss: 0.0020\n",
      "Epoch 65/100\n",
      "38/38 [==============================] - 62s 2s/step - loss: 0.0020\n",
      "Epoch 66/100\n",
      "38/38 [==============================] - 62s 2s/step - loss: 0.0023\n",
      "Epoch 67/100\n",
      "38/38 [==============================] - 62s 2s/step - loss: 0.0022\n",
      "Epoch 68/100\n",
      "38/38 [==============================] - 62s 2s/step - loss: 0.0020\n",
      "Epoch 69/100\n",
      "38/38 [==============================] - 62s 2s/step - loss: 0.0020\n",
      "Epoch 70/100\n",
      "38/38 [==============================] - 62s 2s/step - loss: 0.0022\n",
      "Epoch 71/100\n",
      "38/38 [==============================] - 81s 2s/step - loss: 0.0022\n",
      "Epoch 72/100\n",
      "38/38 [==============================] - 88s 2s/step - loss: 0.0019\n",
      "Epoch 73/100\n",
      "38/38 [==============================] - 89s 2s/step - loss: 0.0019\n",
      "Epoch 74/100\n",
      "38/38 [==============================] - 88s 2s/step - loss: 0.0018\n",
      "Epoch 75/100\n",
      "38/38 [==============================] - 90s 2s/step - loss: 0.0022\n",
      "Epoch 76/100\n",
      "38/38 [==============================] - 87s 2s/step - loss: 0.0020\n",
      "Epoch 77/100\n",
      "38/38 [==============================] - 85s 2s/step - loss: 0.0019\n",
      "Epoch 78/100\n",
      "38/38 [==============================] - 89s 2s/step - loss: 0.0019\n",
      "Epoch 79/100\n",
      "38/38 [==============================] - 89s 2s/step - loss: 0.0019\n",
      "Epoch 80/100\n",
      "38/38 [==============================] - 88s 2s/step - loss: 0.0019\n",
      "Epoch 81/100\n",
      "38/38 [==============================] - 93s 2s/step - loss: 0.0017\n",
      "Epoch 82/100\n",
      "38/38 [==============================] - 89s 2s/step - loss: 0.0019\n",
      "Epoch 83/100\n",
      "38/38 [==============================] - 91s 2s/step - loss: 0.0019\n",
      "Epoch 84/100\n",
      "38/38 [==============================] - 88s 2s/step - loss: 0.0019\n",
      "Epoch 85/100\n",
      "38/38 [==============================] - 86s 2s/step - loss: 0.0018\n",
      "Epoch 86/100\n",
      "38/38 [==============================] - 89s 2s/step - loss: 0.0017\n",
      "Epoch 87/100\n",
      "38/38 [==============================] - 548s 15s/step - loss: 0.0020\n",
      "Epoch 88/100\n",
      "38/38 [==============================] - 61s 2s/step - loss: 0.0017\n",
      "Epoch 89/100\n",
      "38/38 [==============================] - 61s 2s/step - loss: 0.0016\n",
      "Epoch 90/100\n",
      "38/38 [==============================] - 61s 2s/step - loss: 0.0018\n",
      "Epoch 91/100\n",
      "38/38 [==============================] - 66s 2s/step - loss: 0.0018\n",
      "Epoch 92/100\n",
      "38/38 [==============================] - 72s 2s/step - loss: 0.0016\n",
      "Epoch 93/100\n",
      "38/38 [==============================] - 66s 2s/step - loss: 0.0018\n",
      "Epoch 94/100\n",
      "38/38 [==============================] - 61s 2s/step - loss: 0.0018\n",
      "Epoch 95/100\n",
      "38/38 [==============================] - 62s 2s/step - loss: 0.0016\n",
      "Epoch 96/100\n",
      "38/38 [==============================] - 62s 2s/step - loss: 0.0016\n",
      "Epoch 97/100\n",
      "38/38 [==============================] - 62s 2s/step - loss: 0.0016\n",
      "Epoch 98/100\n",
      "38/38 [==============================] - 63s 2s/step - loss: 0.0019\n",
      "Epoch 99/100\n",
      "38/38 [==============================] - 63s 2s/step - loss: 0.0018\n",
      "Epoch 100/100\n",
      "38/38 [==============================] - 63s 2s/step - loss: 0.0017\n"
     ]
    }
   ],
   "source": [
    "\n",
    "with tf.device('/GPU:0'):\n",
    "    regressor.fit(x = x_train, y= y_train, epochs = 100, batch_size=32)"
   ]
  },
  {
   "cell_type": "code",
   "execution_count": 15,
   "id": "30c2518f-5265-4e5f-81a9-3cc84b0628a4",
   "metadata": {},
   "outputs": [],
   "source": [
    "regressor.save('stock_RNN.h5')"
   ]
  },
  {
   "cell_type": "markdown",
   "id": "9269febe-737f-483a-b87e-275d78aaa13f",
   "metadata": {},
   "source": [
    "## Part 3: Making predictions and visualizing the results"
   ]
  },
  {
   "cell_type": "markdown",
   "id": "727d426f-686e-43d8-9c1e-a3da0fbf758a",
   "metadata": {},
   "source": [
    "### Getting real stock price of 2017"
   ]
  },
  {
   "cell_type": "code",
   "execution_count": 16,
   "id": "1335a8fc-a490-478d-bec4-a7825a21ad8c",
   "metadata": {},
   "outputs": [],
   "source": [
    "data_test = pd.read_csv('C:/Users/Bidee/OneDrive/Desktop/Deep Learning A-Z/Part 3 - Recurrent Neural Networks (RNN)/Google_Stock_Price_Test.csv')\n",
    "real_stock_price = data_test.iloc[:,1:2].values"
   ]
  },
  {
   "cell_type": "markdown",
   "id": "a7cf5cca-17ae-4d49-baf8-e75cbf0aede9",
   "metadata": {},
   "source": [
    "### Predicting 2017 stock price"
   ]
  },
  {
   "cell_type": "code",
   "execution_count": 17,
   "id": "85e3f716-e48c-4a65-864e-23e583cd953f",
   "metadata": {},
   "outputs": [
    {
     "name": "stdout",
     "output_type": "stream",
     "text": [
      "WARNING:tensorflow:Layer lstm will not use cuDNN kernels since it doesn't meet the criteria. It will use a generic GPU kernel as fallback when running on GPU.\n",
      "WARNING:tensorflow:Layer lstm_1 will not use cuDNN kernels since it doesn't meet the criteria. It will use a generic GPU kernel as fallback when running on GPU.\n",
      "WARNING:tensorflow:Layer lstm_2 will not use cuDNN kernels since it doesn't meet the criteria. It will use a generic GPU kernel as fallback when running on GPU.\n",
      "WARNING:tensorflow:Layer lstm_3 will not use cuDNN kernels since it doesn't meet the criteria. It will use a generic GPU kernel as fallback when running on GPU.\n",
      "1/1 [==============================] - 1s 1s/step\n"
     ]
    }
   ],
   "source": [
    "dataset_total = pd.concat((data_train['Open'], data_test['Open']), axis = 0)\n",
    "inputs = dataset_total[len(dataset_total) - len(data_test) - 60:].values\n",
    "inputs = inputs.reshape(-1,1)\n",
    "inputs = scaler.transform(inputs)\n",
    "x_test =[]\n",
    "for i in range(60 ,80):\n",
    "    x_test.append(inputs[i-60:i , 0])\n",
    "\n",
    "x_test = np.array(x_test)\n",
    "x_test = np.reshape(x_test, (x_test.shape[0], x_test.shape[1], 1))\n",
    "\n",
    "# importing the saved model\n",
    "from keras.models import load_model\n",
    "rnn = load_model('stock_RNN.h5')\n",
    "predicted_stock_price = rnn.predict(x_test)\n",
    "# since the test values are scaled, we would be using inverse transform for actual values. \n",
    "predicted_stock_price = scaler.inverse_transform(predicted_stock_price)"
   ]
  },
  {
   "cell_type": "markdown",
   "id": "ae4f20b7-64aa-46db-a8e5-51ab6740e04d",
   "metadata": {},
   "source": [
    "### Viz of results"
   ]
  },
  {
   "cell_type": "code",
   "execution_count": 18,
   "id": "d981a3e8-4e26-407d-a3a0-fced0b899f9f",
   "metadata": {},
   "outputs": [
    {
     "data": {
      "image/png": "[encoded data removed]",
      "text/plain": [
       "<Figure size 640x480 with 1 Axes>"
      ]
     },
     "metadata": {},
     "output_type": "display_data"
    }
   ],
   "source": [
    "plt.plot(real_stock_price, color = 'red', label = 'real stock price')\n",
    "plt.plot(predicted_stock_price, color = 'blue', label = 'prediction')\n",
    "plt.title('Google stock price prediction 2017 Jan')\n",
    "plt.xlabel('Time')\n",
    "plt.ylabel('Google Stock Price')\n",
    "plt.legend()\n",
    "plt.show()"
   ]
  },
  {
   "cell_type": "code",
   "execution_count": null,
   "id": "9451514d-1e7a-46cc-a0c1-1b6315c7f551",
   "metadata": {},
   "outputs": [],
   "source": []
  }
 ],
 "metadata": {
  "kernelspec": {
   "display_name": "deep_learning",
   "language": "python",
   "name": "deep_learning"
  },
  "language_info": {
   "codemirror_mode": {
    "name": "ipython",
    "version": 3
   },
   "file_extension": ".py",
   "mimetype": "text/x-python",
   "name": "python",
   "nbconvert_exporter": "python",
   "pygments_lexer": "ipython3",
   "version": "3.10.11"
  }
 },
 "nbformat": 4,
 "nbformat_minor": 5
}
